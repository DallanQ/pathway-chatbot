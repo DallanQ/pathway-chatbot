{
 "cells": [
  {
   "cell_type": "code",
   "execution_count": 24,
   "metadata": {},
   "outputs": [],
   "source": [
    "import os\n",
    "import csv\n",
    "\n",
    "def associate_markdown_with_urls(markdown_dir, csv_file):\n",
    "    # Read the CSV file and store the file paths and URLs in a dictionary\n",
    "    file_url_mapping = {}\n",
    "    with open(csv_file, mode='r', newline='', encoding='utf-8') as file:\n",
    "        reader = csv.DictReader(file)\n",
    "        for row in reader:\n",
    "            # Extract the filename without the extension and use it as the key\n",
    "            filepath = os.path.basename(row['Filepath'])  # Get the file name from the path\n",
    "            filename_without_ext = os.path.splitext(filepath)[0]\n",
    "            file_url_mapping[filename_without_ext] = row['URL']\n",
    "            \n",
    "\n",
    "    # Now go through the markdown files and associate them with the URLs\n",
    "    markdown_url_mapping = {}\n",
    "    for markdown_filename in os.listdir(markdown_dir):\n",
    "        # Get the markdown filename without the extension\n",
    "        filename_without_ext = os.path.splitext(markdown_filename)[0]\n",
    "        \n",
    "        # Check if the filename matches any entry in the CSV dictionary\n",
    "        if filename_without_ext in file_url_mapping:\n",
    "            markdown_url_mapping[markdown_filename] = {\n",
    "            \"heading\" : row['Heading'],\n",
    "            \"subheading\" : row['Subheading'],\n",
    "            \"title\" : row['Title'],\n",
    "            \"url\" : file_url_mapping[filename_without_ext]\n",
    "            }\n",
    "            \n",
    "\n",
    "    return markdown_url_mapping\n",
    "\n",
    "\n"
   ]
  },
  {
   "cell_type": "code",
   "execution_count": null,
   "metadata": {},
   "outputs": [],
   "source": []
  },
  {
   "cell_type": "code",
   "execution_count": null,
   "metadata": {},
   "outputs": [],
   "source": [
    "\n",
    "markdown_dir = 'data/testdata'\n",
    "csv_file = 'output_data.csv'\n",
    "markdown_url_mapping = associate_markdown_with_urls(markdown_dir, csv_file)\n",
    "\n",
    "# Display the result\n",
    "for markdown_file, url in markdown_url_mapping.items():\n",
    "    # print()\n",
    "    print(f\"Markdown File: {markdown_file}, URL: {url}\")\n",
    "   "
   ]
  },
  {
   "cell_type": "code",
   "execution_count": 26,
   "metadata": {},
   "outputs": [],
   "source": [
    "import os\n",
    "\n",
    "def count_files_in_directory(directory):\n",
    "    # List all the entries in the directory\n",
    "    entries = os.listdir(directory)\n",
    "    \n",
    "    # Count only the files\n",
    "    file_count = sum(1 for entry in entries if os.path.isfile(os.path.join(directory, entry)))\n",
    "    \n",
    "    return file_count"
   ]
  },
  {
   "cell_type": "code",
   "execution_count": null,
   "metadata": {},
   "outputs": [],
   "source": [
    "print(count_files_in_directory(markdown_dir))"
   ]
  },
  {
   "cell_type": "code",
   "execution_count": 28,
   "metadata": {},
   "outputs": [],
   "source": [
    "import yaml\n",
    "\n",
    "def attach_metadata_to_markdown_directory(directory_path, metadata_dict):\n",
    "    # Loop through each file in the directory\n",
    "    for filename in os.listdir(directory_path):\n",
    "        if filename.endswith('.md'):\n",
    "            file_path = os.path.join(directory_path, filename)\n",
    "            if filename in metadata_dict:\n",
    "                metadata = {\n",
    "                    \"heading\" : metadata_dict[filename][\"heading\"],\n",
    "                    \"subheading\" : metadata_dict[filename][\"subheading\"],\n",
    "                    \"title\": filename,\n",
    "                    \"url\": metadata_dict[filename][\"url\"]\n",
    "                }\n",
    "                \n",
    "                # Open the markdown file and prepend the metadata\n",
    "                with open(file_path, 'r+') as file:\n",
    "                    content = file.read()\n",
    "                    file.seek(0, 0)\n",
    "                    yaml_metadata = yaml.dump(metadata, default_flow_style=False)\n",
    "                    front_matter = f\"---\\n{yaml_metadata}---\\n\"\n",
    "                    file.write(front_matter + content)"
   ]
  },
  {
   "cell_type": "code",
   "execution_count": 29,
   "metadata": {},
   "outputs": [],
   "source": [
    "directory_path = 'data/testdata'\n",
    "\n",
    "# Attach metadata to each markdown file in the directory\n",
    "attach_metadata_to_markdown_directory(directory_path, markdown_url_mapping)"
   ]
  },
  {
   "cell_type": "code",
   "execution_count": null,
   "metadata": {},
   "outputs": [],
   "source": [
    "print(markdown_url_mapping)"
   ]
  },
  {
   "cell_type": "code",
   "execution_count": 31,
   "metadata": {},
   "outputs": [],
   "source": [
    "import yaml\n",
    "\n",
    "def extract_url_from_markdown(file_path):\n",
    "    with open(file_path, 'r') as file:\n",
    "        lines = file.readlines()\n",
    "        \n",
    "        # Check if the file is not empty and starts with YAML front matter\n",
    "        if lines and lines[0].strip() == '---':\n",
    "            # Find where the front matter ends\n",
    "            end_index = None\n",
    "            for i in range(1, len(lines)):\n",
    "                if lines[i].strip() == '---':\n",
    "                    end_index = i\n",
    "                    break\n",
    "            \n",
    "            if end_index:\n",
    "                # Extract the YAML front matter\n",
    "                yaml_content = ''.join(lines[1:end_index])\n",
    "                metadata = yaml.safe_load(yaml_content)\n",
    "                \n",
    "                # Extract the URL from the metadata if it exists\n",
    "                if 'url' in metadata:\n",
    "                    return metadata['url']\n",
    "    \n",
    "    return None  # Return None if no URL is found or no valid YAML front matter is present\n",
    "\n",
    "\n"
   ]
  },
  {
   "cell_type": "code",
   "execution_count": null,
   "metadata": {},
   "outputs": [],
   "source": [
    "for filename in os.listdir(directory_path):\n",
    "        if filename.endswith('.md'):\n",
    "            file_path = os.path.join(directory_path, filename)\n",
    "            url = extract_url_from_markdown(file_path)\n",
    "            if url:\n",
    "                print(url)\n",
    "            else:\n",
    "                print(\"No URL found\")\n"
   ]
  },
  {
   "cell_type": "code",
   "execution_count": 40,
   "metadata": {},
   "outputs": [],
   "source": [
    "def extract_metadata_from_markdown(file_path):\n",
    "    with open(file_path, 'r') as file:\n",
    "        lines = file.readlines()\n",
    "        \n",
    "        # Check if the file is not empty and starts with YAML front matter\n",
    "        if lines and lines[0].strip() == '---':\n",
    "            # Find where the front matter ends\n",
    "            end_index = None\n",
    "            for i in range(1, len(lines)):\n",
    "                if lines[i].strip() == '---':\n",
    "                    end_index = i\n",
    "                    break\n",
    "            \n",
    "            if end_index:\n",
    "                # Extract the YAML front matter\n",
    "                yaml_content = ''.join(lines[1:end_index])\n",
    "                metadata = yaml.safe_load(yaml_content)\n",
    "                \n",
    "                # Extract the URL from the metadata if it exists\n",
    "                # if 'url' in metadata:\n",
    "                #     url = metadata['url']\n",
    "                # if 'heading' in metadata:\n",
    "                #     heading = metadata['heading']\n",
    "                # if 'subheading' in metadata:\n",
    "                #     subheading = metadata['subheading']\n",
    "                # if 'title' in metadata:\n",
    "                #     title = metadata['title']\n",
    "                # # print(f\"Heading: {heading}, Subheading: {subheading}, Title: {title}, URL: {url}\")\n",
    "    \n",
    "    return metadata"
   ]
  },
  {
   "cell_type": "code",
   "execution_count": null,
   "metadata": {},
   "outputs": [],
   "source": [
    "for filename in os.listdir(directory_path):\n",
    "        if filename.endswith('.md'):\n",
    "            file_path = os.path.join(directory_path, filename)\n",
    "            print(extract_metadata_from_markdown(file_path))"
   ]
  },
  {
   "cell_type": "code",
   "execution_count": null,
   "metadata": {},
   "outputs": [],
   "source": []
  }
 ],
 "metadata": {
  "kernelspec": {
   "display_name": "bam",
   "language": "python",
   "name": "python3"
  },
  "language_info": {
   "codemirror_mode": {
    "name": "ipython",
    "version": 3
   },
   "file_extension": ".py",
   "mimetype": "text/x-python",
   "name": "python",
   "nbconvert_exporter": "python",
   "pygments_lexer": "ipython3",
   "version": "3.12.4"
  }
 },
 "nbformat": 4,
 "nbformat_minor": 2
}
