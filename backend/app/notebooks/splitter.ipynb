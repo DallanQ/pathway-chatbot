{
 "cells": [
  {
   "cell_type": "markdown",
   "metadata": {},
   "source": [
    "# Notebook for splitting markdown files"
   ]
  },
  {
   "cell_type": "code",
   "execution_count": 106,
   "metadata": {},
   "outputs": [],
   "source": [
    "import spacy\n",
    "nlp = spacy.load(\"en_core_web_sm\")"
   ]
  },
  {
   "cell_type": "code",
   "execution_count": 107,
   "metadata": {},
   "outputs": [],
   "source": [
    "def set_headers(par: str, header_levels: dict) -> dict:\n",
    "    \"\"\" Set headers for a paragraph \"\"\"\n",
    "    \n",
    "    # Check if paragraph starts with a header (e.g. '# ', '## ', etc.)\n",
    "    for level in range(1, 7):\n",
    "        if par.startswith('#' * level + ' '):\n",
    "            header_levels[level] = par\n",
    "            # Reset lower-level headers\n",
    "            for lower_level in range(level + 1, 7):\n",
    "                header_levels[lower_level] = None\n",
    "            # Exit loop after finding the correct header level\n",
    "            break  \n",
    "    \n",
    "    # Build headers dictionary dynamically\n",
    "    headers = {f'header_{i}': header_levels[i] for i in range(1, 7) if header_levels[i]}\n",
    "    return headers"
   ]
  },
  {
   "cell_type": "code",
   "execution_count": 108,
   "metadata": {},
   "outputs": [],
   "source": [
    "def set_complet_context(par: str, header_levels: dict) -> dict:\n",
    "    \"\"\" Set the complete context for a paragraph \"\"\"\n",
    "\n",
    "    complet_context = ''\n",
    "    for header in header_levels:\n",
    "        complet_context += header_levels[header]\n",
    "        complet_context += '\\n\\n'\n",
    "\n",
    "    if par not in header_levels.values():\n",
    "        complet_context += par\n",
    "    \n",
    "    return complet_context"
   ]
  },
  {
   "cell_type": "code",
   "execution_count": 109,
   "metadata": {},
   "outputs": [],
   "source": [
    "from llama_index.core.schema import TextNode\n",
    "\n",
    "def split_document_text(\n",
    "        paragraphs: list[str], \n",
    "        md_metadata: dict,\n",
    "        add_metadata_to_text: bool = False,\n",
    "        split_by_sentence: bool = False\n",
    "    ) -> list[TextNode]:\n",
    "    \"\"\" Split text into paragraphs \"\"\"\n",
    "    result = []\n",
    "    headers = {}\n",
    "    header_levels = {1: None, 2: None, 3: None, 4: None, 5: None, 6: None}\n",
    "    \n",
    "    for par in paragraphs:\n",
    "        headers = set_headers(par, header_levels)\n",
    "        # complet_context = set_complet_context(par, headers)\n",
    "        \n",
    "        metadata = {\n",
    "            **md_metadata,\n",
    "            **headers,\n",
    "            # 'paragraph': par,\n",
    "            # 'complet_context': complet_context\n",
    "        }        \n",
    "\n",
    "        # use spacy to split paragraph into sentences\n",
    "        if split_by_sentence:\n",
    "            doc = nlp(par)\n",
    "            for sent in doc.sents:\n",
    "                \n",
    "                if add_metadata_to_text:\n",
    "                    text = ''\n",
    "                    for value in metadata.values():\n",
    "                        text += str(value) + '\\n'\n",
    "                    text += sent.text\n",
    "                else:\n",
    "                    text = sent.text\n",
    "                        \n",
    "                metadata['paragraph'] = par\n",
    "                node = TextNode(metadata=metadata, text=text)\n",
    "                result.append(node)\n",
    "\n",
    "        else:\n",
    "            if add_metadata_to_text:\n",
    "                text = ''\n",
    "                for value in metadata.values():\n",
    "                    text += str(value) + '\\n'\n",
    "                text += par\n",
    "            else:\n",
    "                text = par\n",
    "            # Create a TextNode and add to result\n",
    "            metadata['paragraph'] = par\n",
    "            node = TextNode(metadata=metadata, text=text)\n",
    "            result.append(node)\n",
    "\n",
    "    return result\n",
    "    "
   ]
  },
  {
   "cell_type": "code",
   "execution_count": 110,
   "metadata": {},
   "outputs": [],
   "source": [
    "import frontmatter\n",
    "\n",
    "with open('../data/ant_man.md', 'r') as f:\n",
    "        post = frontmatter.load(f)\n",
    "\n",
    "        metadata = post.metadata\n",
    "        paragraphs = post.content.split('\\n\\n')\n",
    "        \n",
    "        if metadata.get('url'):\n",
    "                metadata.pop('url')\n",
    "        if metadata.get('title'):\n",
    "                metadata.pop('title')\n",
    "                \n",
    "        # by default, split by paragraph\n",
    "        result1 = split_document_text(\n",
    "                paragraphs=paragraphs, \n",
    "                md_metadata=metadata, \n",
    "        ) \n",
    "                \n",
    "        # use spacy to split paragraph into sentences\n",
    "        result2 = split_document_text(\n",
    "                paragraphs=paragraphs, \n",
    "                md_metadata=metadata, \n",
    "                split_by_sentence=True, \n",
    "        )\n",
    "        \n",
    "        # Add metadata to text (will be only divided by paragraph)\n",
    "        result3 = split_document_text(\n",
    "                paragraphs=paragraphs, \n",
    "                md_metadata=metadata, \n",
    "                add_metadata_to_text=True\n",
    "        )\n",
    "        \n",
    "        # Add metadata to text (will be divided by sentence)\n",
    "        result4 = split_document_text(\n",
    "                paragraphs=paragraphs, \n",
    "                md_metadata=metadata, \n",
    "                add_metadata_to_text=True, \n",
    "                split_by_sentence=True\n",
    "        )\n"
   ]
  },
  {
   "cell_type": "markdown",
   "metadata": {},
   "source": [
    "### By default, split by paragraph"
   ]
  },
  {
   "cell_type": "code",
   "execution_count": 111,
   "metadata": {},
   "outputs": [
    {
     "name": "stdout",
     "output_type": "stream",
     "text": [
      "{\n",
      "  \"heading\": \"Heading\",\n",
      "  \"subheading\": \"SubHeading\",\n",
      "  \"header_1\": \"# Ant Man\",\n",
      "  \"header_2\": \"## Main Movies\",\n",
      "  \"header_3\": \"### Ant-Man (2015)\",\n",
      "  \"paragraph\": \"Pym, who manipulated Lang through an unknowing Luis into stealing the suit as a test, wants Lang to become the new Ant-Man to steal the Yellowjacket from Cross. Having been spying on Cross after discovering his intentions, Hope and Pym train Lang to fight and to control ants. While Hope harbors resentment towards Pym about her mother Janet's death, he reveals that Janet, known as the Wasp, disappeared into a subatomic Quantum Realm while disabling a Soviet nuclear missile in 1987. Pym warns Lang that he could suffer a similar fate if he overrides his suit's regulator. They send him to steal a device from the Avengers' headquarters that will aid their heist, where he briefly fights Sam Wilson.\"\n",
      "}\n",
      "Text: \"Pym, who manipulated Lang through an unknowing Luis into stealing the suit as a test, wants Lang to become the new Ant-Man to steal the Yellowjacket from Cross. Having been spying on Cross after discovering his intentions, Hope and Pym train Lang to fight and to control ants. While Hope harbors resentment towards Pym about her mother Janet's death, he reveals that Janet, known as the Wasp, disappeared into a subatomic Quantum Realm while disabling a Soviet nuclear missile in 1987. Pym warns Lang that he could suffer a similar fate if he overrides his suit's regulator. They send him to steal a device from the Avengers' headquarters that will aid their heist, where he briefly fights Sam Wilson.\"\n"
     ]
    }
   ],
   "source": [
    "import json\n",
    "\n",
    "meta = json.dumps(result1[7].metadata, indent=2)\n",
    "print(meta)\n",
    "\n",
    "txt = json.dumps(result1[7].text, indent=2)\n",
    "print('Text:', txt)"
   ]
  },
  {
   "cell_type": "markdown",
   "metadata": {},
   "source": [
    "## Use spacy to split paragraph into sentences"
   ]
  },
  {
   "cell_type": "code",
   "execution_count": 112,
   "metadata": {},
   "outputs": [
    {
     "name": "stdout",
     "output_type": "stream",
     "text": [
      "{\n",
      "  \"heading\": \"Heading\",\n",
      "  \"subheading\": \"SubHeading\",\n",
      "  \"header_1\": \"# Ant Man\",\n",
      "  \"header_2\": \"## Main Movies\",\n",
      "  \"header_3\": \"### Ant-Man (2015)\",\n",
      "  \"paragraph\": \"In 1989, scientist Hank Pym resigns from S.H.I.E.L.D. after discovering their attempt to replicate his Ant-Man shrinking technology. Believing the technology would be dangerous if replicated, Pym vows to hide it for as long as he lives. In the present day, Pym's estranged daughter, Hope van Dyne, and former prot\\u00e9g\\u00e9, Darren Cross, have forced him out of his company, Pym Technologies. Cross is close to perfecting a shrinking suit of his own, the Yellowjacket, which horrifies Pym.\"\n",
      "}\n",
      "Text: \"In the present day, Pym's estranged daughter, Hope van Dyne, and former prot\\u00e9g\\u00e9, Darren Cross, have forced him out of his company, Pym Technologies.\"\n"
     ]
    }
   ],
   "source": [
    "import json\n",
    "\n",
    "meta = json.dumps(result2[7].metadata, indent=2)\n",
    "print(meta)\n",
    "\n",
    "txt = json.dumps(result2[7].text, indent=2)\n",
    "print('Text:', txt)"
   ]
  },
  {
   "cell_type": "markdown",
   "metadata": {},
   "source": [
    "## Add metadata to text (will be only divided by paragraph)"
   ]
  },
  {
   "cell_type": "code",
   "execution_count": 113,
   "metadata": {},
   "outputs": [
    {
     "name": "stdout",
     "output_type": "stream",
     "text": [
      "{\n",
      "  \"heading\": \"Heading\",\n",
      "  \"subheading\": \"SubHeading\",\n",
      "  \"header_1\": \"# Ant Man\",\n",
      "  \"header_2\": \"## Main Movies\",\n",
      "  \"header_3\": \"### Ant-Man (2015)\",\n",
      "  \"paragraph\": \"Pym, who manipulated Lang through an unknowing Luis into stealing the suit as a test, wants Lang to become the new Ant-Man to steal the Yellowjacket from Cross. Having been spying on Cross after discovering his intentions, Hope and Pym train Lang to fight and to control ants. While Hope harbors resentment towards Pym about her mother Janet's death, he reveals that Janet, known as the Wasp, disappeared into a subatomic Quantum Realm while disabling a Soviet nuclear missile in 1987. Pym warns Lang that he could suffer a similar fate if he overrides his suit's regulator. They send him to steal a device from the Avengers' headquarters that will aid their heist, where he briefly fights Sam Wilson.\"\n",
      "}\n",
      "Text: \"Heading\\nSubHeading\\n# Ant Man\\n## Main Movies\\n### Ant-Man (2015)\\nPym, who manipulated Lang through an unknowing Luis into stealing the suit as a test, wants Lang to become the new Ant-Man to steal the Yellowjacket from Cross. Having been spying on Cross after discovering his intentions, Hope and Pym train Lang to fight and to control ants. While Hope harbors resentment towards Pym about her mother Janet's death, he reveals that Janet, known as the Wasp, disappeared into a subatomic Quantum Realm while disabling a Soviet nuclear missile in 1987. Pym warns Lang that he could suffer a similar fate if he overrides his suit's regulator. They send him to steal a device from the Avengers' headquarters that will aid their heist, where he briefly fights Sam Wilson.\"\n"
     ]
    }
   ],
   "source": [
    "import json\n",
    "\n",
    "meta = json.dumps(result3[7].metadata, indent=2)\n",
    "print(meta)\n",
    "\n",
    "txt = json.dumps(result3[7].text, indent=2)\n",
    "print('Text:', txt)"
   ]
  },
  {
   "cell_type": "markdown",
   "metadata": {},
   "source": [
    "## Add metadata to text (will be divided by sentence)"
   ]
  },
  {
   "cell_type": "code",
   "execution_count": 114,
   "metadata": {},
   "outputs": [
    {
     "name": "stdout",
     "output_type": "stream",
     "text": [
      "{\n",
      "  \"heading\": \"Heading\",\n",
      "  \"subheading\": \"SubHeading\",\n",
      "  \"header_1\": \"# Ant Man\",\n",
      "  \"header_2\": \"## Main Movies\",\n",
      "  \"header_3\": \"### Ant-Man (2015)\",\n",
      "  \"paragraph\": \"In 1989, scientist Hank Pym resigns from S.H.I.E.L.D. after discovering their attempt to replicate his Ant-Man shrinking technology. Believing the technology would be dangerous if replicated, Pym vows to hide it for as long as he lives. In the present day, Pym's estranged daughter, Hope van Dyne, and former prot\\u00e9g\\u00e9, Darren Cross, have forced him out of his company, Pym Technologies. Cross is close to perfecting a shrinking suit of his own, the Yellowjacket, which horrifies Pym.\"\n",
      "}\n",
      "Text: \"Heading\\nSubHeading\\n# Ant Man\\n## Main Movies\\n### Ant-Man (2015)\\nIn 1989, scientist Hank Pym resigns from S.H.I.E.L.D. after discovering their attempt to replicate his Ant-Man shrinking technology. Believing the technology would be dangerous if replicated, Pym vows to hide it for as long as he lives. In the present day, Pym's estranged daughter, Hope van Dyne, and former prot\\u00e9g\\u00e9, Darren Cross, have forced him out of his company, Pym Technologies. Cross is close to perfecting a shrinking suit of his own, the Yellowjacket, which horrifies Pym.\\nIn the present day, Pym's estranged daughter, Hope van Dyne, and former prot\\u00e9g\\u00e9, Darren Cross, have forced him out of his company, Pym Technologies.\"\n"
     ]
    }
   ],
   "source": [
    "import json\n",
    "\n",
    "meta = json.dumps(result4[7].metadata, indent=2)\n",
    "print(meta)\n",
    "\n",
    "txt = json.dumps(result4[7].text, indent=2)\n",
    "print('Text:', txt)"
   ]
  },
  {
   "cell_type": "code",
   "execution_count": null,
   "metadata": {},
   "outputs": [],
   "source": []
  }
 ],
 "metadata": {
  "kernelspec": {
   "display_name": "app-0vVj5Jes-py3.12",
   "language": "python",
   "name": "python3"
  },
  "language_info": {
   "codemirror_mode": {
    "name": "ipython",
    "version": 3
   },
   "file_extension": ".py",
   "mimetype": "text/x-python",
   "name": "python",
   "nbconvert_exporter": "python",
   "pygments_lexer": "ipython3",
   "version": "3.12.5"
  }
 },
 "nbformat": 4,
 "nbformat_minor": 2
}
