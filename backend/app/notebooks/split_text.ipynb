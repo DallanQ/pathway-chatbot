{
 "cells": [
  {
   "cell_type": "markdown",
   "metadata": {},
   "source": [
    "# Notebook for splitting markdown files"
   ]
  },
  {
   "cell_type": "code",
   "execution_count": null,
   "metadata": {},
   "outputs": [],
   "source": [
    "import spacy\n",
    "nlp = spacy.load(\"en_core_web_sm\")"
   ]
  },
  {
   "cell_type": "code",
   "execution_count": null,
   "metadata": {},
   "outputs": [],
   "source": [
    "def set_headers(par: str, header_levels: dict) -> dict:\n",
    "    \"\"\" Set headers for a paragraph \"\"\"\n",
    "    \n",
    "    # Check if paragraph starts with a header (e.g. '# ', '## ', etc.)\n",
    "    for level in range(1, 7):\n",
    "        if par.startswith('#' * level + ' '):\n",
    "            header_levels[level] = par\n",
    "            # Reset lower-level headers\n",
    "            for lower_level in range(level + 1, 7):\n",
    "                header_levels[lower_level] = None\n",
    "            # Exit loop after finding the correct header level\n",
    "            break  \n",
    "    \n",
    "    # Build headers dictionary dynamically\n",
    "    headers = {f'header_{i}': header_levels[i] for i in range(1, 7) if header_levels[i]}\n",
    "    return headers"
   ]
  },
  {
   "cell_type": "code",
   "execution_count": null,
   "metadata": {},
   "outputs": [],
   "source": [
    "def set_complet_context(par: str, header_levels: dict) -> dict:\n",
    "    \"\"\" Set the complete context for a paragraph \"\"\"\n",
    "\n",
    "    complet_context = ''\n",
    "    for header in header_levels:\n",
    "        complet_context += header_levels[header]\n",
    "        complet_context += '\\n\\n'\n",
    "\n",
    "    if par not in header_levels.values():\n",
    "        complet_context += par\n",
    "    \n",
    "    return complet_context"
   ]
  },
  {
   "cell_type": "code",
   "execution_count": null,
   "metadata": {},
   "outputs": [],
   "source": [
    "from llama_index.core.schema import TextNode\n",
    "\n",
    "def split_document_text(paragraphs: list[str], split_by_sentence: bool = False) -> list[TextNode]:\n",
    "    \"\"\" Split text into paragraphs \"\"\"\n",
    "    result = []\n",
    "    headers = {}\n",
    "    header_levels = {1: None, 2: None, 3: None, 4: None, 5: None, 6: None}\n",
    "    \n",
    "    for par in paragraphs:\n",
    "        headers = set_headers(par, header_levels)\n",
    "        complet_context = set_complet_context(par, headers)\n",
    "        \n",
    "        metadata = {\n",
    "            'headers': headers,\n",
    "            'paragraph': par,\n",
    "            'complet_context': complet_context\n",
    "        }\n",
    "\n",
    "        # use spacy to split paragraph into sentences\n",
    "        if split_by_sentence:\n",
    "            doc = nlp(par)\n",
    "            for sent in doc.sents:\n",
    "                node = TextNode(metadata=metadata, text=sent.text)\n",
    "                result.append(node)\n",
    "\n",
    "        else:\n",
    "            # Create a TextNode and add to result\n",
    "            node = TextNode(metadata=metadata, text=par)\n",
    "            result.append(node)\n",
    "\n",
    "    return result\n",
    "    "
   ]
  },
  {
   "cell_type": "code",
   "execution_count": null,
   "metadata": {},
   "outputs": [],
   "source": [
    "with open('../data/ant_man.md', 'r') as f:\n",
    "    paragraphs = f.read().split('\\n')\n",
    "    \n",
    "    # use spacy to split paragraph into sentences\n",
    "    result = split_document_text(paragraphs, split_by_sentence=True)\n",
    "    \n",
    "    # Or just split into paragraphs\n",
    "    # result = split_document_text(paragraphs)"
   ]
  },
  {
   "cell_type": "code",
   "execution_count": null,
   "metadata": {},
   "outputs": [],
   "source": [
    "result"
   ]
  },
  {
   "cell_type": "code",
   "execution_count": null,
   "metadata": {},
   "outputs": [],
   "source": [
    "print(result[7].metadata['complet_context'])"
   ]
  }
 ],
 "metadata": {
  "kernelspec": {
   "display_name": "app-0vVj5Jes-py3.12",
   "language": "python",
   "name": "python3"
  },
  "language_info": {
   "codemirror_mode": {
    "name": "ipython",
    "version": 3
   },
   "file_extension": ".py",
   "mimetype": "text/x-python",
   "name": "python",
   "nbconvert_exporter": "python",
   "pygments_lexer": "ipython3",
   "version": "3.12.5"
  }
 },
 "nbformat": 4,
 "nbformat_minor": 2
}
